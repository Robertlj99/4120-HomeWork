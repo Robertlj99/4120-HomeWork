{
 "cells": [
  {
   "cell_type": "code",
   "execution_count": 99,
   "id": "c23224d1",
   "metadata": {},
   "outputs": [
    {
     "name": "stdout",
     "output_type": "stream",
     "text": [
      "[0.9554799999999983, 0.9455199999999992, 0.9605599999999994, 0.954039999999998, 0.9581599999999991, 0.9572799999999986, 0.9611600000000001, 0.9609199999999978, 0.9650799999999997, 0.960839999999999, 0.9657999999999997, 0.9621599999999983, 0.9677599999999993, 0.9605999999999996, 0.962359999999999, 0.9549199999999988, 0.9563599999999982, 0.9514799999999988, 0.955999999999999, 0.9464399999999982]\n"
     ]
    },
    {
     "data": {
      "image/png": "[encoded data removed]",
      "text/plain": [
       "<Figure size 432x288 with 1 Axes>"
      ]
     },
     "metadata": {
      "needs_background": "light"
     },
     "output_type": "display_data"
    }
   ],
   "source": [
    "import pandas as pd\n",
    "import random\n",
    "from sklearn.model_selection import train_test_split\n",
    "from sklearn.neighbors import KNeighborsClassifier\n",
    "from sklearn import metrics\n",
    "import matplotlib.pyplot as plt\n",
    "\n",
    "def length(X, y):\n",
    "    empty_list = []\n",
    "    \n",
    "    return empty_list\n",
    "\n",
    "#read and tag data from iris.data\n",
    "url = 'http://archive.ics.uci.edu/ml/machine-learning-databases/iris/iris.data'\n",
    "col_names = ['sepal_length', 'sepal_width', 'petal_length', 'petal_width', 'species']\n",
    "iris = pd.read_csv(url, header=None, names=col_names)\n",
    "#assign data tags to integers b/c knc seems to need this\n",
    "iris[\"Species_number\"] = iris.species.map({'Iris-setosa':0,'Iris-versicolor':1,'Iris-virginica':2 })\n",
    "#assign features descriptions\n",
    "feature_cols = ['sepal_length', 'sepal_width', 'petal_length', 'petal_width']\n",
    "X = iris[feature_cols]\n",
    "y = iris.Species_number\n",
    "#variables to hold abvg accuracies and number of loops/K values\n",
    "acuracieslist = []\n",
    "bigloop = 20\n",
    "sLoop = 500\n",
    "for n in range(1,bigloop+1):\n",
    "    avgAcuracy = 0\n",
    "    #repeate test ssLoop times and calculate avg accuracy\n",
    "    for x in range(1,sLoop+1):\n",
    "        \n",
    "        X_train, X_test, y_train, y_test = train_test_split(X, y, test_size = .33, random_state=random.randint(1,100))\n",
    "        knn = KNeighborsClassifier(n_neighbors=(n))\n",
    "        knn.fit(X_train, y_train)\n",
    "        y_pred_class = knn.predict(X_test)\n",
    "        avgAcuracy += (metrics.accuracy_score(y_test, y_pred_class))\n",
    "    acuracieslist.append(avgAcuracy/sLoop)\n",
    "\n",
    "print(acuracieslist)\n",
    "#plot stuff!\n",
    "plt.title('Iris KNN Acuracies')\n",
    "plt.ylabel('Acurracy')\n",
    "plt.xlabel('N')\n",
    "plt.grid(True)\n",
    "plt.xlim((1,20))\n",
    "plt.ylim((0,1))\n",
    "plt.plot(range(1,21), acuracieslist)\n",
    "plt.show()\n"
   ]
  },
  {
   "cell_type": "code",
   "execution_count": null,
   "id": "fa7debdd",
   "metadata": {},
   "outputs": [],
   "source": []
  },
  {
   "cell_type": "code",
   "execution_count": null,
   "id": "96ec07d3",
   "metadata": {},
   "outputs": [],
   "source": []
  }
 ],
 "metadata": {
  "kernelspec": {
   "display_name": "Python 3 (ipykernel)",
   "language": "python",
   "name": "python3"
  },
  "language_info": {
   "codemirror_mode": {
    "name": "ipython",
    "version": 3
   },
   "file_extension": ".py",
   "mimetype": "text/x-python",
   "name": "python",
   "nbconvert_exporter": "python",
   "pygments_lexer": "ipython3",
   "version": "3.9.7"
  }
 },
 "nbformat": 4,
 "nbformat_minor": 5
}
